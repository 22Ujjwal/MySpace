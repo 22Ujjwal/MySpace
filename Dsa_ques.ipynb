{
  "nbformat": 4,
  "nbformat_minor": 0,
  "metadata": {
    "colab": {
      "provenance": []
    },
    "kernelspec": {
      "name": "python3",
      "display_name": "Python 3"
    },
    "language_info": {
      "name": "python"
    }
  },
  "cells": [
    {
      "cell_type": "markdown",
      "source": [
        "##Two Sums"
      ],
      "metadata": {
        "id": "Z3peJgGytbmL"
      }
    },
    {
      "cell_type": "code",
      "execution_count": 8,
      "metadata": {
        "colab": {
          "base_uri": "https://localhost:8080/"
        },
        "id": "RLUJCR0ZdmKF",
        "outputId": "1137bb4f-6755-4b35-b64c-16222469fca3"
      },
      "outputs": [
        {
          "output_type": "stream",
          "name": "stdout",
          "text": [
            "[0, 1]\n",
            "\n",
            "Time Complexity = O(n)\n",
            "Space Complexity = O(n)\n",
            "n is the length of the input array.\n",
            "\n"
          ]
        }
      ],
      "source": [
        "from typing import List  # Step 1: Import List from typing\n",
        "\n",
        "\n",
        "# input: nums = [2,7,11,15], target = 9\n",
        "# output: [0,1]\n",
        "# explanation: because nums[0] + nums[1] == 9, we return [0,1]\n",
        "\n",
        "\n",
        "class Solution:\n",
        "    def twoSum(self, nums: List[int], target: int) -> List[int]:\n",
        "        d = {} # dictonary to store the [number] as the key and its [index] as the value.\n",
        "        for i, x in enumerate(nums): # enumerate loops.    i = index, x = First_trial_number\n",
        "            if (y := target - x) in d: # num_looking_for = target_num - given_num,  these all are numbers\n",
        "                return [d[y], i] # index_of_y, index_of_x\n",
        "            d[x] = i # If the pair wasn't found yet, we store x in the dictionary with its index.\n",
        "\n",
        "# Step 2: Create an instance of the class and test it\n",
        "nums = [2, 7, 11, 15]\n",
        "target = 9\n",
        "\n",
        "solution = Solution()   # creates a object because twoSum is a function in a class Solution so we need object and\n",
        "result = solution.twoSum(nums, target)\n",
        "\n",
        "print(result)\n",
        "print(\"\"\"\n",
        "Time Complexity = O(n)\n",
        "Space Complexity = O(n)\n",
        "n is the length of the input array.\n",
        "\"\"\")"
      ]
    },
    {
      "cell_type": "markdown",
      "source": [],
      "metadata": {
        "id": "fnlzIBmntY36"
      }
    },
    {
      "cell_type": "code",
      "source": [],
      "metadata": {
        "id": "R3W_7ePPhFR9"
      },
      "execution_count": null,
      "outputs": []
    },
    {
      "cell_type": "markdown",
      "source": [],
      "metadata": {
        "id": "llwuJtDgsuyY"
      }
    }
  ]
}